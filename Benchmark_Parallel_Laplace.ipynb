{
  "nbformat": 4,
  "nbformat_minor": 0,
  "metadata": {
    "colab": {
      "provenance": [],
      "gpuType": "T4"
    },
    "kernelspec": {
      "name": "python3",
      "display_name": "Python 3"
    },
    "language_info": {
      "name": "python"
    },
    "accelerator": "GPU"
  },
  "cells": [
    {
      "cell_type": "markdown",
      "source": [
        "In this notebook, we solve the Laplace equation in 2D grid, with verification to the original solution, and do a benchamark analysis of how the different parallization techniques scale"
      ],
      "metadata": {
        "id": "zIW8jfgujDAJ"
      }
    },
    {
      "cell_type": "markdown",
      "source": [
        "The equation to solve is $\\nabla^2 u$ = 0."
      ],
      "metadata": {
        "id": "1jr3eRkLAvi6"
      }
    },
    {
      "cell_type": "markdown",
      "source": [
        "# Open MPI\n",
        "First look at Open MPI, relatively easy to implement with #pragma directive"
      ],
      "metadata": {
        "id": "3ZEYXTzhA4Bx"
      }
    },
    {
      "cell_type": "code",
      "source": [
        "%%writefile omp_laplace.c\n",
        "#include<stdio.h>\n",
        "#include \"omp.h\"\n",
        "#include<math.h>\n",
        "#include<stdlib.h>\n",
        "#include<time.h>\n",
        "\n",
        "#define Lx 1\n",
        "#define Ly 1\n",
        "#define PI M_PI\n",
        "\n",
        "int main(int argc, char *argv[]){\n",
        "    if(argc < 1){\n",
        "      printf(\"Please provide input about the number of threads\\n\");\n",
        "      exit(1);\n",
        "    }\n",
        "    // Read the inputs, can add error checks\n",
        "    int NUM_THREADS = atoi(argv[1]);\n",
        "    int Nx = atoi(argv[2]);\n",
        "    int Ny = atoi(argv[3]);\n",
        "    printf(\"Nx: %d, Ny: %d, NUM_THREADS:%d\\n\",Nx, Ny,NUM_THREADS);\n",
        "\n",
        "    FILE *fout;\n",
        "    fout = fopen(\"omp_output_details.txt\", \"w\");\n",
        "\n",
        "\n",
        "    double t_start, t_end;\n",
        "\n",
        "    // set the parallel variables\n",
        "    omp_set_dynamic(0);\n",
        "    omp_set_num_threads(NUM_THREADS);\n",
        "\n",
        "    //Initialize the 2D grid\n",
        "    double field[Ny][Nx], new_field[Ny][Nx];\n",
        "    double h = ((double) Lx)/(Nx-1);\n",
        "    int i, j;\n",
        "    FILE *fp;\n",
        "    fp = fopen(\"omp_output_visual.txt\", \"w\");\n",
        "    for(i=0;i<Nx;i++){\n",
        "        for(j=0;j<Ny;j++) {\n",
        "            field[j][i] = 0.0;\n",
        "        }\n",
        "    }\n",
        "    // Boundary Conditions\n",
        "    for(i=0, j=0; j<Ny; j++) field[j][i] = 0; //left boundary\n",
        "    for(i=Nx-1, j=0; j<Ny; j++) field[j][i] = 0; //right boundary\n",
        "    for(i=0, j=0; i<Nx; i++) field[j][i] = sin(PI*(i)*h); // top boundary\n",
        "    for(i=0, j=Ny-1; i<Nx; i++) field[j][i] = sin(PI*i*h)*exp(-j*h*PI); //bottom boundary\n",
        "\n",
        "    for(i=0;i<Nx;i++){\n",
        "        for(j=0;j<Ny;j++) {\n",
        "            new_field[j][i] = field[j][i];\n",
        "        }\n",
        "    }\n",
        "    double totalerror=1;\n",
        "    double convergence_criteria = 1e-6;\n",
        "    int iter=0;\n",
        "    t_start = omp_get_wtime();\n",
        "    while(totalerror > convergence_criteria){\n",
        "        totalerror = 0;\n",
        "        #pragma omp parallel for collapse(2) num_threads(NUM_THREADS) schedule(auto) shared(field, new_field) reduction(+: totalerror)\n",
        "        for(i=1;i<Nx-1;i++){\n",
        "            for(j=1;j<Ny-1;j++){\n",
        "                new_field[j][i] = (field[j][i+1] + field[j][i-1] + field[j+1][i] + field[j-1][i])/(4.0);\n",
        "                totalerror += fabs(new_field[j][i] - field[j][i]);\n",
        "            }\n",
        "        }\n",
        "        iter += 1;\n",
        "        for(i=0;i<Nx;i++) for(j=0;j<Ny;j++) field[j][i] = new_field[j][i];\n",
        "    }\n",
        "    t_end = omp_get_wtime();\n",
        "\n",
        "    for(j=0;j<Ny;j++){\n",
        "        for(i=0;i<Nx;i++){\n",
        "            fprintf(fp, \"%lf \", field[j][i]);\n",
        "        }\n",
        "        fprintf(fp, \"\\n\");\n",
        "    }\n",
        "\n",
        "    //Calculate the error from the actual solution\n",
        "    float er;\n",
        "    for(j=0;j<Ny;j++){\n",
        "      for(i=0;i<Nx;i++){\n",
        "        er += (field[j][i] - sin(PI*i*h)*exp(-PI*j*h))*(field[j][i] - sin(PI*i*h)*exp(-PI*j*h));\n",
        "      }\n",
        "    }\n",
        "    fprintf(fout, \"%d %d %le %le\\n\", NUM_THREADS, iter, t_end - t_start, (t_end-t_start)/iter);\n",
        "    printf(\"NTHREADS: %d, iterations: %d, N: %d, Time: %le sec, Time_per_iteration: %le sec, Error:%le\\n\", NUM_THREADS, iter, Nx*Ny, t_end-t_start, (t_end-t_start)/iter, er);\n",
        "    fclose(fp);\n",
        "    fclose(fout);\n",
        "\n",
        "    return 0;\n",
        "}"
      ],
      "metadata": {
        "colab": {
          "base_uri": "https://localhost:8080/"
        },
        "id": "X0mYcyAJjTkR",
        "outputId": "485781e3-a37b-4ad4-cd36-33893345178c"
      },
      "execution_count": 8,
      "outputs": [
        {
          "output_type": "stream",
          "name": "stdout",
          "text": [
            "Writing omp_laplace.c\n"
          ]
        }
      ]
    },
    {
      "cell_type": "code",
      "source": [
        "%%shell\n",
        "gcc -fopenmp omp_laplace.c -o omp_output -lm"
      ],
      "metadata": {
        "colab": {
          "base_uri": "https://localhost:8080/"
        },
        "id": "e-hpEbsqlUnB",
        "outputId": "a49b6581-aca0-4edf-eb92-fcebd3444414"
      },
      "execution_count": 9,
      "outputs": [
        {
          "output_type": "execute_result",
          "data": {
            "text/plain": []
          },
          "metadata": {},
          "execution_count": 9
        }
      ]
    },
    {
      "cell_type": "code",
      "source": [
        "%%shell\n",
        "./omp_output 4 128 128"
      ],
      "metadata": {
        "colab": {
          "base_uri": "https://localhost:8080/"
        },
        "id": "Un_FK8v6mRlb",
        "outputId": "2aa177f2-2b2a-400d-9887-3f0d70d07b02"
      },
      "execution_count": 10,
      "outputs": [
        {
          "output_type": "stream",
          "name": "stdout",
          "text": [
            "Nx: 128, Ny: 128, NUM_THREADS:4\n",
            "NTHREADS: 4, iterations: 43814, N: 16384, Time: 1.309971e+01 sec, Time_per_iteration: 2.989845e-04 sec, Error:1.209582e-06\n"
          ]
        },
        {
          "output_type": "execute_result",
          "data": {
            "text/plain": []
          },
          "metadata": {},
          "execution_count": 10
        }
      ]
    },
    {
      "cell_type": "code",
      "source": [
        "%%shell\n",
        "for i in 1 2 4 8 16\n",
        "do\n",
        "  ./omp_output $i 128 128\n",
        "done"
      ],
      "metadata": {
        "colab": {
          "base_uri": "https://localhost:8080/"
        },
        "id": "IfptMaDvpket",
        "outputId": "5eb93dce-f601-4a20-8aae-c625aa2b53f0"
      },
      "execution_count": null,
      "outputs": [
        {
          "output_type": "stream",
          "name": "stdout",
          "text": [
            "Nx: 128, Ny: 128, NUM_THREADS:1\n",
            "NTHREADS: 1, iterations: 43814, N: 16384, Time: 6.994939e+00 sec, Time_per_iteration: 1.596508e-04 sec, Error:1.209582e-06\n",
            "Nx: 128, Ny: 128, NUM_THREADS:2\n",
            "NTHREADS: 2, iterations: 43814, N: 16384, Time: 7.685709e+00 sec, Time_per_iteration: 1.754167e-04 sec, Error:1.209582e-06\n",
            "Nx: 128, Ny: 128, NUM_THREADS:4\n",
            "NTHREADS: 4, iterations: 43814, N: 16384, Time: 9.888225e+00 sec, Time_per_iteration: 2.256864e-04 sec, Error:1.209582e-06\n",
            "Nx: 128, Ny: 128, NUM_THREADS:8\n",
            "NTHREADS: 8, iterations: 43814, N: 16384, Time: 1.112623e+01 sec, Time_per_iteration: 2.539423e-04 sec, Error:1.209582e-06\n",
            "Nx: 128, Ny: 128, NUM_THREADS:16\n",
            "NTHREADS: 16, iterations: 43814, N: 16384, Time: 1.273509e+01 sec, Time_per_iteration: 2.906626e-04 sec, Error:1.209582e-06\n"
          ]
        },
        {
          "output_type": "execute_result",
          "data": {
            "text/plain": []
          },
          "metadata": {},
          "execution_count": 75
        }
      ]
    },
    {
      "cell_type": "markdown",
      "source": [
        "The time increases with the numer of threads. Cloud system, the time for each iteration is also different. Ran once - the time with 4 threads is 13 s, whereas next time it is 9.8 s."
      ],
      "metadata": {
        "id": "JpKqwk7CBqfP"
      }
    },
    {
      "cell_type": "markdown",
      "source": [
        "In my laptop, 6-core i5 AMD proc - it takes 3.67 s for 1 thread, 2.58 s with 2 threads, 2.29 s with 4 threads"
      ],
      "metadata": {
        "id": "CnAU8LWkB3FQ"
      }
    },
    {
      "cell_type": "markdown",
      "source": [
        "# MPI"
      ],
      "metadata": {
        "id": "mE1jdasiD8vq"
      }
    },
    {
      "cell_type": "markdown",
      "source": [
        "Now we will do an MPI implementation considering only row-based division, i.e. each processor handles smaller sections of the grids with Nx columns and Ny/num_procs rows."
      ],
      "metadata": {
        "id": "vXkgErg2ETKN"
      }
    },
    {
      "cell_type": "code",
      "source": [
        "%%writefile mpi_laplace.c\n",
        "\n",
        "#include<stdio.h>\n",
        "#include\"mpi.h\"\n",
        "#include<math.h>\n",
        "#include<stdlib.h>\n",
        "\n",
        "\n",
        "#define Nx 128\n",
        "#define Ny 128\n",
        "#define Lx 1\n",
        "#define Ly 1\n",
        "#define PI M_PI\n",
        "\n",
        "#define MASTER 0\n",
        "\n",
        "int main(){\n",
        "\n",
        "    int rank, size;\n",
        "    MPI_Status status;\n",
        "    MPI_Init(NULL, NULL);\n",
        "    MPI_Comm_rank(MPI_COMM_WORLD, &rank);\n",
        "    MPI_Comm_size(MPI_COMM_WORLD, &size);\n",
        "\n",
        "    int self, up, down;\n",
        "    self = rank;\n",
        "    FILE *fout;\n",
        "    fout = fopen(\"mpi_output_details.txt\", \"w\");\n",
        "\n",
        "    float t_start, t_end;\n",
        "    //printf(\"Size:%d, rank:%d, Nx:%d\\n\", size, rank, Nx);\n",
        "\n",
        "    // Periodic boundary condition\n",
        "    //    up = rank+1>size-1? rank+1-size: rank+1;\n",
        "    //    down = rank-1<0? rank-1+size: rank-1;\n",
        "\n",
        "    // Fixed boundary condition\n",
        "    down = rank+1 > size-1? -1: rank+1;\n",
        "    up = rank-1<0? -1: rank-1;\n",
        "\n",
        "    //printf(\"Self:%d, up:%d, down:%d\\n\", self, up, down);\n",
        "    int i, j;\n",
        "    float h = ((float) Lx)/(Nx-1);\n",
        "    int rows_per_proc = (int) (Ny/size);\n",
        "    int base;\n",
        "\n",
        "    //proc_field is a halo region with communication layers\n",
        "    float proc_field[rows_per_proc+2][Nx], new_proc_field[rows_per_proc+2][Nx];\n",
        "    float field[Ny][Nx];\n",
        "\n",
        "\n",
        "\n",
        "    // Use the master proc to organize and distribute the data\n",
        "    if (self == 0){\n",
        "        //Initialize\n",
        "        for (j=0; j<Ny; j++){\n",
        "            for (i=0; i<Ny; i++){\n",
        "                field[j][i] = 0;\n",
        "            }\n",
        "        }\n",
        "\n",
        "        //boundary condition\n",
        "        for(i=0, j=0; j<Ny; j++) field[j][i] = 0; //left boundary\n",
        "        for(i=Nx-1, j=0; j<Ny; j++) field[j][i] = 0; //right boundary\n",
        "        for(i=0, j=0; i<Nx; i++) field[j][i] = sin(PI*(i)*h); // top boundary\n",
        "        for(i=0, j=Ny-1; i<Nx; i++) field[j][i] = sin(PI*i*h)*exp(-j*h*PI); //bottom boundary\n",
        "\n",
        "\n",
        "        // Keep one chunk for itself, and distribute the rest to individual procs\n",
        "        for(i=1; i<size; i++){\n",
        "            base = i*rows_per_proc;\n",
        "            MPI_Send(&base, 1, MPI_INT, i, 0, MPI_COMM_WORLD);\n",
        "            MPI_Send(&field[base][0], Nx*rows_per_proc, MPI_FLOAT, i, 0, MPI_COMM_WORLD);\n",
        "        }\n",
        "        // Only the lowest block\n",
        "        for(j=1; j<rows_per_proc+1; j++){\n",
        "            for (i=0; i<Nx; i++) {\n",
        "                proc_field[j][i] = field[j-1][i];\n",
        "                new_proc_field[j][i] = proc_field[j][i];\n",
        "            }\n",
        "        }\n",
        "    }\n",
        "    else{\n",
        "        MPI_Recv(&base, 1, MPI_INT, MASTER, 0, MPI_COMM_WORLD, &status);\n",
        "        MPI_Recv(&proc_field[1][0], Nx*rows_per_proc, MPI_FLOAT, MASTER, 0, MPI_COMM_WORLD, &status);\n",
        "    }\n",
        "\n",
        "    // Perform Computation\n",
        "\n",
        "    float localerror;\n",
        "    int iter;\n",
        "    float convergence_criteria = 1e-6;\n",
        "    float totalerror=1;\n",
        "    float er;\n",
        "\n",
        "    t_start = MPI_Wtime();\n",
        "    int start, end;\n",
        "    while(totalerror > convergence_criteria){\n",
        "        localerror = 0.;\n",
        "        if(down == -1){\n",
        "            //bottom slab\n",
        "            MPI_Send(&proc_field[1][0], Nx, MPI_FLOAT, up, 1, MPI_COMM_WORLD);\n",
        "\n",
        "            MPI_Recv(&proc_field[0][0], Nx, MPI_FLOAT, up, 1, MPI_COMM_WORLD, &status);\n",
        "\n",
        "            start = 1;\n",
        "            end = rows_per_proc;\n",
        "        }\n",
        "        else if(up == -1){\n",
        "            //top slab\n",
        "            MPI_Send(&proc_field[rows_per_proc][0], Nx, MPI_FLOAT, down, 1, MPI_COMM_WORLD);\n",
        "\n",
        "            MPI_Recv(&proc_field[rows_per_proc+1][0], Nx, MPI_FLOAT, down, 1, MPI_COMM_WORLD, &status);\n",
        "\n",
        "            start = 2;\n",
        "            end = rows_per_proc+1;\n",
        "        }\n",
        "        else{\n",
        "            MPI_Recv(&proc_field[0][0], Nx, MPI_FLOAT, up, 1, MPI_COMM_WORLD, &status);\n",
        "\n",
        "            MPI_Send(&proc_field[1][0], Nx, MPI_FLOAT, up, 1, MPI_COMM_WORLD);\n",
        "\n",
        "            MPI_Send(&proc_field[rows_per_proc][0], Nx, MPI_FLOAT, down, 1, MPI_COMM_WORLD);\n",
        "\n",
        "            MPI_Recv(&proc_field[rows_per_proc+1][0], Nx, MPI_FLOAT, down, 1, MPI_COMM_WORLD, &status);\n",
        "\n",
        "            start = 1;\n",
        "            end = rows_per_proc+1;\n",
        "        }\n",
        "\n",
        "\n",
        "\n",
        "        for (i=1; i<Nx-1; i++){\n",
        "            for(j=start; j<end; j++){\n",
        "                new_proc_field[j][i] = (proc_field[j][i+1] + proc_field[j][i-1] +\n",
        "                                    proc_field[j+1][i] + proc_field[j-1][i])/(4.0);\n",
        "                localerror += fabs(new_proc_field[j][i] - proc_field[j][i]);\n",
        "            }\n",
        "        }\n",
        "        iter+=1;\n",
        "        for(i=0;i<Nx;i++) for(j=start;j<end;j++) proc_field[j][i] = new_proc_field[j][i];\n",
        "\n",
        "        MPI_Reduce(&localerror, &totalerror, 1, MPI_FLOAT, MPI_SUM, MASTER, MPI_COMM_WORLD);\n",
        "        //MPI_Barrier(MPI_COMM_WORLD);\n",
        "        //if(self==MASTER) printf(\"Iteration=%d, totalerror=%le\\n\", iter, totalerror);\n",
        "        MPI_Bcast(&totalerror, 1, MPI_FLOAT, 0, MPI_COMM_WORLD);\n",
        "        //printf(\"Rank %d\\n\", self);\n",
        "    }\n",
        "\n",
        "\n",
        "    if (self == 0){\n",
        "        for (i=1; i<size; i++) {\n",
        "            base = i*rows_per_proc;\n",
        "            MPI_Recv(&field[base][0], Nx*rows_per_proc, MPI_FLOAT, i, 1, MPI_COMM_WORLD, &status);\n",
        "        }\n",
        "        // new_proc_field to field copy\n",
        "        for(j=1; j<rows_per_proc+1; j++){\n",
        "            for (i=0; i<Nx; i++) {\n",
        "                field[j-1][i] = proc_field[j][i];\n",
        "            }\n",
        "        }\n",
        "        FILE *fp;\n",
        "        fp = fopen(\"output_mpi2.txt\", \"w\");\n",
        "        for(j=0;j<Ny;j++){\n",
        "            for(i=0;i<Nx;i++){\n",
        "                fprintf(fp, \"%lf \", field[j][i]);\n",
        "            }\n",
        "            fprintf(fp, \"\\n\");\n",
        "        }\n",
        "        fclose(fp);\n",
        "\n",
        "\n",
        "\n",
        "    }\n",
        "    else{\n",
        "        MPI_Send(&proc_field[1][0], Nx*rows_per_proc, MPI_FLOAT, 0, 1, MPI_COMM_WORLD); // Send the new_proc_field data to field copy in master\n",
        "    }\n",
        "    t_end = MPI_Wtime();\n",
        "    if(self==MASTER){\n",
        "        //Verify the computations\n",
        "\n",
        "        for(j=0;j<Ny;j++){\n",
        "            for(i=0;i<Nx;i++){\n",
        "                er += (field[j][i] - sin(PI*i*h)*exp(-PI*j*h))*(field[j][i] - sin(PI*i*h)*exp(-PI*j*h));\n",
        "            }\n",
        "\n",
        "        }\n",
        "        //printf(\"Error from analytic solution: %le\\n\", er);\n",
        "        MPI_Bcast(&er, 1, MPI_FLOAT, 0, MPI_COMM_WORLD);\n",
        "    }\n",
        "\n",
        "    if(self==MASTER){\n",
        "      printf(\"NPROCS: %d, iterations: %d, N: %d, Time: %le sec, Time_per_iteration: %le sec, Error:%le\\n\", size, iter, Nx*Ny, t_end-t_start, (t_end-t_start)/iter, er);\n",
        "      //printf(\"Total running time with %d processes for %d iterations= %le\\n\", size, iter, end_time-start_time);\n",
        "    }\n",
        "    MPI_Finalize();\n",
        "\n",
        "    return 0;\n",
        "}"
      ],
      "metadata": {
        "colab": {
          "base_uri": "https://localhost:8080/"
        },
        "id": "unJKderirpl-",
        "outputId": "0cfa250a-500c-4dac-871e-13d120aa147f"
      },
      "execution_count": 11,
      "outputs": [
        {
          "output_type": "stream",
          "name": "stdout",
          "text": [
            "Writing mpi_laplace.c\n"
          ]
        }
      ]
    },
    {
      "cell_type": "code",
      "source": [
        "%%shell\n",
        "mpicc mpi_laplace.c -o mpi_output -lm"
      ],
      "metadata": {
        "colab": {
          "base_uri": "https://localhost:8080/"
        },
        "id": "76OK4pGmt04E",
        "outputId": "df56d166-aa94-4364-d68e-05e3c6e37c7c"
      },
      "execution_count": 12,
      "outputs": [
        {
          "output_type": "execute_result",
          "data": {
            "text/plain": []
          },
          "metadata": {},
          "execution_count": 12
        }
      ]
    },
    {
      "cell_type": "code",
      "source": [
        "%%shell\n",
        "mpiexec -np 4 --allow-run-as-root --oversubscribe ./mpi_output"
      ],
      "metadata": {
        "colab": {
          "base_uri": "https://localhost:8080/"
        },
        "id": "pUQ97vl5twGy",
        "outputId": "3f4b8a2e-f81d-4455-8c4a-413454209802"
      },
      "execution_count": 13,
      "outputs": [
        {
          "output_type": "stream",
          "name": "stdout",
          "text": [
            "NPROCS: 4, iterations: 34282, N: 16384, Time: 8.990182e+00 sec, Time_per_iteration: 2.622420e-04 sec, Error:1.023988e-07\n"
          ]
        },
        {
          "output_type": "execute_result",
          "data": {
            "text/plain": []
          },
          "metadata": {},
          "execution_count": 13
        }
      ]
    },
    {
      "cell_type": "code",
      "source": [
        "%%shell\n",
        "for i in 2 4 8 16\n",
        "do\n",
        "  mpiexec -np $i --allow-run-as-root --oversubscribe ./mpi_output\n",
        "done"
      ],
      "metadata": {
        "colab": {
          "base_uri": "https://localhost:8080/"
        },
        "id": "N2XlstjIvpQB",
        "outputId": "aea43e5a-2b53-4391-a7b2-e843fc077fb0"
      },
      "execution_count": null,
      "outputs": [
        {
          "output_type": "stream",
          "name": "stdout",
          "text": [
            "NPROCS: 2, iterations: 34282, N: 16384, Time: 4.790731e+00 sec, Time_per_iteration: 1.397448e-04 sec, Error:1.023988e-07\n",
            "NPROCS: 4, iterations: 34282, N: 16384, Time: 7.045597e+00 sec, Time_per_iteration: 2.055188e-04 sec, Error:1.023988e-07\n",
            "NPROCS: 8, iterations: 34282, N: 16384, Time: 9.171598e+00 sec, Time_per_iteration: 2.675339e-04 sec, Error:1.023988e-07\n",
            "NPROCS: 16, iterations: 35348, N: 16384, Time: 2.722828e+01 sec, Time_per_iteration: 7.702921e-04 sec, Error:inf\n"
          ]
        },
        {
          "output_type": "execute_result",
          "data": {
            "text/plain": []
          },
          "metadata": {},
          "execution_count": 141
        }
      ]
    },
    {
      "cell_type": "markdown",
      "source": [
        "Similar to OpenMPI, the time increases with number of processors probably due to cloud resources."
      ],
      "metadata": {
        "id": "GgGqO4_jE9TA"
      }
    },
    {
      "cell_type": "markdown",
      "source": [
        "In my laptop, it takes, 2.36 s for 2 processors, and 1.37 s for 4 processors respectively."
      ],
      "metadata": {
        "id": "yz11ph4vGbQI"
      }
    },
    {
      "cell_type": "markdown",
      "source": [
        "**Shows better scaling with MPI atleast for few processors**"
      ],
      "metadata": {
        "id": "mX3usyBqGoK8"
      }
    },
    {
      "cell_type": "markdown",
      "source": [
        "# CUDA - GPU acceleration"
      ],
      "metadata": {
        "id": "yWJTs-wtGe5A"
      }
    },
    {
      "cell_type": "code",
      "source": [
        "# GPU\n",
        "!pip install git+https://github.com/andreinechaev/nvcc4jupyter.git"
      ],
      "metadata": {
        "id": "_lGx907azw5N",
        "colab": {
          "base_uri": "https://localhost:8080/"
        },
        "outputId": "3ec6c80e-c823-44a4-8d0d-fe7e0b6f239e"
      },
      "execution_count": 31,
      "outputs": [
        {
          "output_type": "stream",
          "name": "stdout",
          "text": [
            "Looking in indexes: https://pypi.org/simple, https://us-python.pkg.dev/colab-wheels/public/simple/\n",
            "Collecting git+https://github.com/andreinechaev/nvcc4jupyter.git\n",
            "  Cloning https://github.com/andreinechaev/nvcc4jupyter.git to /tmp/pip-req-build-qqdmm3au\n",
            "  Running command git clone --filter=blob:none --quiet https://github.com/andreinechaev/nvcc4jupyter.git /tmp/pip-req-build-qqdmm3au\n",
            "  Resolved https://github.com/andreinechaev/nvcc4jupyter.git to commit aac710a35f52bb78ab34d2e52517237941399eff\n",
            "  Preparing metadata (setup.py) ... \u001b[?25l\u001b[?25hdone\n"
          ]
        }
      ]
    },
    {
      "cell_type": "code",
      "source": [
        "%load_ext nvcc_plugin"
      ],
      "metadata": {
        "id": "yBoH9UhZz6k8",
        "colab": {
          "base_uri": "https://localhost:8080/"
        },
        "outputId": "bf92144e-7822-4603-d2a4-04b838ab617e"
      },
      "execution_count": 32,
      "outputs": [
        {
          "output_type": "stream",
          "name": "stdout",
          "text": [
            "The nvcc_plugin extension is already loaded. To reload it, use:\n",
            "  %reload_ext nvcc_plugin\n"
          ]
        }
      ]
    },
    {
      "cell_type": "code",
      "source": [
        "%%writefile cuda_laplace.cu\n",
        "\n",
        "\n",
        "#include<stdio.h>\n",
        "#include<math.h>\n",
        "#include<stdlib.h>\n",
        "\n",
        "//Enter in multiples of 64\n",
        "#define Nx 128\n",
        "#define Ny 128\n",
        "#define PI 3.14159\n",
        "\n",
        "#define THREADS_PER_BLOCK 512\n",
        "\n",
        "inline\n",
        "cudaError_t checkCuda(cudaError_t result)\n",
        "{\n",
        "#if defined(DEBUG) || defined(_DEBUG)\n",
        "  if (result != cudaSuccess) {\n",
        "    fprintf(stderr, \"CUDA Runtime Error: %s\\n\", cudaGetErrorString(result));\n",
        "    assert(result == cudaSuccess);\n",
        "  }\n",
        "#endif\n",
        "  return result;\n",
        "}\n",
        "\n",
        "\n",
        "__global__ void update(float *d_f, float *d_nf){\n",
        "  __shared__ float halo[(THREADS_PER_BLOCK/Nx + 2)*Nx];\n",
        "\n",
        "  int global_index = threadIdx.x + blockIdx.x * blockDim.x;\n",
        "  int local_index = threadIdx.x + Nx;\n",
        "  halo[local_index] = d_f[global_index];\n",
        "\n",
        "  int N = Nx*Ny;\n",
        "\n",
        "  //handle the halo\n",
        "  if(threadIdx.x < Nx){\n",
        "    if(blockIdx.x != 0){\n",
        "      halo[local_index - Nx] = d_f[global_index - Nx]; //top halo\n",
        "    }\n",
        "  }\n",
        "  if(threadIdx.x > THREADS_PER_BLOCK - Nx){\n",
        "    if(global_index < N - Nx){\n",
        "      halo[local_index + Nx] = d_f[global_index + Nx];\n",
        "    }\n",
        "  }\n",
        "  __syncthreads();\n",
        "\n",
        "  //handle the boundary conditions\n",
        "  int i;\n",
        "  int flag_boundary = 0;\n",
        "  for (i = 0; i<THREADS_PER_BLOCK/Nx; i++){\n",
        "    if((threadIdx.x == i*Nx) || (threadIdx.x == (i+1)*Nx - 1)){\n",
        "      //left boundary and right boundary\n",
        "      d_nf[global_index] = d_f[global_index];\n",
        "      flag_boundary = 1;\n",
        "      continue;\n",
        "    }\n",
        "  }\n",
        "  if((global_index - Nx < 0) || (global_index + Nx > N)){\n",
        "      //top and bottom boundary\n",
        "      d_nf[global_index] = d_f[global_index];\n",
        "      flag_boundary = 1;\n",
        "  }\n",
        "\n",
        "  // Compute the Jacobi iteration\n",
        "  if(flag_boundary == 0){\n",
        "    d_nf[global_index] = (halo[local_index + 1] + halo[local_index - 1] + halo[local_index + Nx] + halo[local_index - Nx])/(4.0);\n",
        "    //if(index%10 == 5) printf(\"Running from thread: %d, xid=%d, yid=%d, prev_value=%lf, new_value=%lf\\n\", index, xid, yid, d_f[index], d_nf[index]);\n",
        "  }\n",
        "}\n",
        "\n",
        "\n",
        "float calc_total_error(float *f, float *nf, int N){\n",
        "  float er = 0;\n",
        "  for(int i=0; i<N; i++) er += fabs(nf[i] - f[i]);\n",
        "  return er;\n",
        "}\n",
        "\n",
        "int main(){\n",
        "    cudaEvent_t start, stop;\n",
        "    cudaEventCreate(&start);\n",
        "    cudaEventCreate(&stop);\n",
        "    float *field, *new_field;\n",
        "    int N = Nx*Ny;\n",
        "\n",
        "    int i, j;\n",
        "    int size = N*sizeof(float);\n",
        "    float h = (1.0)/(Nx-1);\n",
        "\n",
        "    //allocate memory and initialize\n",
        "    field = (float *)malloc(size);\n",
        "    new_field = (float *)malloc(size);\n",
        "\n",
        "    int index;\n",
        "    for(i=0; i<N; i++) field[i] = 0.0;\n",
        "    //Adding boundary conditions\n",
        "\n",
        "    for(i=0, j=0; j<Ny; j++) {index=j*Nx+i;field[index] = 0;} //left boundary\n",
        "    for(i=Nx-1, j=0; j<Ny; j++) {index=j*Nx+i;field[index] = 0;} //right boundary\n",
        "    for(i=0, j=0; i<Nx; i++) {index=j*Nx+i;field[index] = sin(PI*(i)*h);} // top boundary\n",
        "    for(i=0, j=Ny-1; i<Nx; i++) {index=j*Nx+i;field[index] = sin(PI*i*h)*exp(-j*h*PI);} //bottom boundary\n",
        "    for(i=0; i<N; i++) new_field[i] = field[i];\n",
        "\n",
        "\n",
        "    float *d_field, *d_new_field;\n",
        "    checkCuda(cudaMalloc((void **)&d_field, size));\n",
        "    checkCuda(cudaMalloc((void **)&d_new_field, size));\n",
        "\n",
        "    float totalerror = 1.0;\n",
        "    float convergence_criteria = 1e-6;\n",
        "    int iter = 0;\n",
        "    cudaEventRecord(start);\n",
        "    while(totalerror > convergence_criteria){\n",
        "      checkCuda(cudaMemcpy(d_field, field, size, cudaMemcpyHostToDevice));\n",
        "      update<<<(N + THREADS_PER_BLOCK - 1)/THREADS_PER_BLOCK, THREADS_PER_BLOCK>>>(d_field, d_new_field);\n",
        "      checkCuda(cudaMemcpy(new_field, d_new_field, size, cudaMemcpyDeviceToHost));\n",
        "\n",
        "      totalerror = calc_total_error(field, new_field, N);\n",
        "//      if(iter%1000==0) printf(\"Iteration : %d, error: %lf\\n\", iter, totalerror);\n",
        "      for(i=0; i<N; i++) field[i]=new_field[i];\n",
        "      iter+= 1;\n",
        "    }\n",
        "    cudaEventRecord(stop);\n",
        "    //cudaEventSynchronize(stop);\n",
        "    cudaFree(d_field); cudaFree(d_new_field);\n",
        "    /*\n",
        "    for(j=0;j<Ny; j++){\n",
        "        for(i=0;i<Nx;i++){\n",
        "          index = j*Nx + i;\n",
        "            printf(\"%lf \", field[index]);\n",
        "        }\n",
        "        printf(\"\\n\");\n",
        "    }\n",
        "    */\n",
        "    FILE *fp;\n",
        "    fp = fopen(\"output_cuda2.txt\", \"w\");\n",
        "    for(j=0;j<Ny;j++){\n",
        "        for(i=0;i<Nx;i++){\n",
        "          index = j*Nx + i;\n",
        "          fprintf(fp, \"%lf \", field[index]);\n",
        "        }\n",
        "        fprintf(fp, \"\\n\");\n",
        "    }\n",
        "    fclose(fp);\n",
        "    //Error from analytical solution\n",
        "    float er=0;\n",
        "    for(j=0;j<Ny;j++){\n",
        "      for(i=0;i<Nx;i++){\n",
        "        index = j*Nx + i;\n",
        "        er += (field[index] - sin(PI*i*h)*exp(-PI*j*h))*(field[index] - sin(PI*i*h)*exp(-PI*j*h));\n",
        "      }\n",
        "    }\n",
        "    float milliseconds;\n",
        "    cudaEventElapsedTime(&milliseconds, start, stop);\n",
        "    printf(\"iterations: %d, N: %d, Time: %le sec, Time_per_iteration: %le sec, Error:%le\\n\",  iter, Nx*Ny, 0.001*milliseconds, (0.001*milliseconds)/iter, er);\n",
        "\n",
        "    free(field); free(new_field);\n",
        "\n",
        "\n",
        "    return 0;\n",
        "}"
      ],
      "metadata": {
        "colab": {
          "base_uri": "https://localhost:8080/"
        },
        "id": "gS3gRgGCz-e9",
        "outputId": "c9120c4a-57d0-432e-f0eb-85c349ca6e8a"
      },
      "execution_count": 25,
      "outputs": [
        {
          "output_type": "stream",
          "name": "stdout",
          "text": [
            "Overwriting cuda_laplace.cu\n"
          ]
        }
      ]
    },
    {
      "cell_type": "code",
      "source": [
        "%%shell\n",
        "nvcc cuda_laplace.cu -lm\n",
        "./a.out"
      ],
      "metadata": {
        "colab": {
          "base_uri": "https://localhost:8080/"
        },
        "id": "VHt8y6Yd2TW3",
        "outputId": "86507434-9161-450d-e433-b8e1c71f2914"
      },
      "execution_count": 26,
      "outputs": [
        {
          "output_type": "stream",
          "name": "stdout",
          "text": [
            "iterations: 34136, N: 16384, Time: 5.686182e+00 sec, Time_per_iteration: 1.665743e-04 sec, Error:1.210029e-07\n"
          ]
        },
        {
          "output_type": "execute_result",
          "data": {
            "text/plain": []
          },
          "metadata": {},
          "execution_count": 26
        }
      ]
    },
    {
      "cell_type": "markdown",
      "source": [
        "Using the same setup of Google Collab, GPU provides a 2x speedup from OpenMP and 1.5x from MPI parallelization considering 4 threads and 4 processors respectively."
      ],
      "metadata": {
        "id": "AKVitNfaH5oY"
      }
    },
    {
      "cell_type": "code",
      "source": [],
      "metadata": {
        "id": "nDNu_AunH4dL"
      },
      "execution_count": null,
      "outputs": []
    },
    {
      "cell_type": "code",
      "source": [
        "!nvidia-smi"
      ],
      "metadata": {
        "colab": {
          "base_uri": "https://localhost:8080/"
        },
        "id": "HIFpB5IJ9XgL",
        "outputId": "d2508bed-6e97-4ead-91fb-0be356fe23b4"
      },
      "execution_count": 28,
      "outputs": [
        {
          "output_type": "stream",
          "name": "stdout",
          "text": [
            "Mon Jun 19 00:03:13 2023       \n",
            "+-----------------------------------------------------------------------------+\n",
            "| NVIDIA-SMI 525.85.12    Driver Version: 525.85.12    CUDA Version: 12.0     |\n",
            "|-------------------------------+----------------------+----------------------+\n",
            "| GPU  Name        Persistence-M| Bus-Id        Disp.A | Volatile Uncorr. ECC |\n",
            "| Fan  Temp  Perf  Pwr:Usage/Cap|         Memory-Usage | GPU-Util  Compute M. |\n",
            "|                               |                      |               MIG M. |\n",
            "|===============================+======================+======================|\n",
            "|   0  Tesla T4            Off  | 00000000:00:04.0 Off |                    0 |\n",
            "| N/A   38C    P8     9W /  70W |      0MiB / 15360MiB |      0%      Default |\n",
            "|                               |                      |                  N/A |\n",
            "+-------------------------------+----------------------+----------------------+\n",
            "                                                                               \n",
            "+-----------------------------------------------------------------------------+\n",
            "| Processes:                                                                  |\n",
            "|  GPU   GI   CI        PID   Type   Process name                  GPU Memory |\n",
            "|        ID   ID                                                   Usage      |\n",
            "|=============================================================================|\n",
            "|  No running processes found                                                 |\n",
            "+-----------------------------------------------------------------------------+\n"
          ]
        }
      ]
    },
    {
      "cell_type": "code",
      "source": [],
      "metadata": {
        "id": "0yi31Y8HHlvQ"
      },
      "execution_count": null,
      "outputs": []
    },
    {
      "cell_type": "markdown",
      "source": [
        "## Verification between different parallel execution"
      ],
      "metadata": {
        "id": "FVx0XyuYHmbY"
      }
    },
    {
      "cell_type": "code",
      "source": [
        "import matplotlib.pyplot as plt\n",
        "import numpy as np\n",
        "\n",
        "\n",
        "fig, (ax1, ax2, ax3) = plt.subplots(figsize=(13, 3), ncols=3)\n",
        "filename = 'omp_output_visual.txt'\n",
        "temperature = np.loadtxt(filename)\n",
        "ax1.imshow(temperature, interpolation='nearest', cmap='hot')\n",
        "\n",
        "filename = 'output_mpi2.txt'\n",
        "temperature = np.loadtxt(filename)\n",
        "ax2.imshow(temperature, interpolation='nearest', cmap='hot')\n",
        "\n",
        "filename = 'output_cuda2.txt'\n",
        "temperature = np.loadtxt(filename)\n",
        "ax3.imshow(temperature, interpolation='nearest', cmap='hot')\n",
        "\n",
        "plt.show()\n"
      ],
      "metadata": {
        "colab": {
          "base_uri": "https://localhost:8080/",
          "height": 296
        },
        "id": "71Et7PO85SQw",
        "outputId": "60c7c524-7998-4932-de7a-66ec7a31eb19"
      },
      "execution_count": 20,
      "outputs": [
        {
          "output_type": "display_data",
          "data": {
            "text/plain": [
              "<Figure size 1300x300 with 3 Axes>"
            ],
            "image/png": "[encoded data removed]"
          },
          "metadata": {}
        }
      ]
    },
    {
      "cell_type": "markdown",
      "source": [
        "| Parallel Type | System Size | Units | Total Time | Time per iteration |\n",
        "| ------------- | ----------- | ----- | ---------- | ------------------ |\n",
        "|     Open MP   |  128 X 128  | 4 Threads | 13.1 s |       2.98e-4      |\n",
        "|       MPI     |  128 X 128  | 4 Procs   | 8.9 s  |       2.62e-4      |\n",
        "|     GPU   |  128 X 128  | 512 Th/block + 32 Blocks | 5.68 s |       1.66e-4      |\n",
        "\n"
      ],
      "metadata": {
        "id": "Om7DM25m-rOu"
      }
    },
    {
      "cell_type": "markdown",
      "source": [
        "# Conclusions\n",
        "\n",
        "- For same setup of Google Collab, GPU provides a speedup of 2x from OpenMPI with 4 threads, and 1.5x from MPI implementation with 4 procs.\n",
        "- Huge difference in execution time between laptop and google collab, but the scaling is consistent between OpenMP and MPI, e.g. OpenMP (on average) takes 11 s to finish with 4 threads on GoogleCollab and 2.3 s on my laptop, similarly MPI takes 7 s wit 4 procs on GoogleCollab and 1.37 s on my laptop. Donot have GPU on laptop, and cannot benchmark GoogleCollab with desktop.\n",
        "- GPU acceleration is not optimized with respect to architecture but still provides a speedup"
      ],
      "metadata": {
        "id": "0LFqKRCEIOKu"
      }
    },
    {
      "cell_type": "code",
      "source": [],
      "metadata": {
        "id": "_Ej0-TSL_boP"
      },
      "execution_count": null,
      "outputs": []
    }
  ]
}